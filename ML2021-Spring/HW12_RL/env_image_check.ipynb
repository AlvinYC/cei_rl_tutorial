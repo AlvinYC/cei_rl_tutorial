{
 "cells": [
  {
   "cell_type": "code",
   "execution_count": 1,
   "id": "d630da99",
   "metadata": {},
   "outputs": [],
   "source": [
    "%%capture\n",
    "from pyvirtualdisplay import Display\n",
    "virtual_display = Display(visible=0, size=(1400, 900))\n",
    "virtual_display.start()\n",
    "from IPython import display\n",
    "\n",
    "%matplotlib inline\n",
    "import matplotlib.pyplot as plt\n",
    "import numpy as np\n",
    "import torch\n",
    "import torch.nn as nn\n",
    "import torch.optim as optim\n",
    "import torch.nn.functional as F\n",
    "from torch.autograd import Variable\n",
    "from torch.distributions import Categorical\n",
    "from tqdm import tqdm\n",
    "import gym\n",
    "import random\n",
    "import numpy as np\n",
    "import time\n",
    "import os"
   ]
  },
  {
   "cell_type": "code",
   "execution_count": 2,
   "id": "afb6fb8e",
   "metadata": {},
   "outputs": [
    {
     "name": "stderr",
     "output_type": "stream",
     "text": [
      "/home/docker/.local/lib/python3.6/site-packages/torch/__init__.py:422: UserWarning: torch.set_deterministic is deprecated and will be removed in a future release. Please use torch.use_deterministic_algorithms instead\n",
      "  \"torch.set_deterministic is deprecated and will be removed in a future \"\n"
     ]
    }
   ],
   "source": [
    "seed = 543 # Do not change this\n",
    "\n",
    "def fix(env, seed):\n",
    "  env.seed(seed)\n",
    "  env.action_space.seed(seed)\n",
    "  torch.manual_seed(seed)\n",
    "  torch.cuda.manual_seed(seed)\n",
    "  torch.cuda.manual_seed_all(seed)\n",
    "  np.random.seed(seed)\n",
    "  random.seed(seed)\n",
    "  #torch.set_deterministic(True)\n",
    "  torch.set_deterministic(False)\n",
    "  torch.backends.cudnn.benchmark = False\n",
    "  torch.backends.cudnn.deterministic = True\n",
    "\n",
    "class PolicyGradientNetwork(nn.Module):\n",
    "\n",
    "    def __init__(self):\n",
    "        super().__init__()\n",
    "        self.fc1 = nn.Linear(8, 16)\n",
    "        self.fc2 = nn.Linear(16, 16)\n",
    "        self.fc3 = nn.Linear(16, 4)\n",
    "\n",
    "    def forward(self, state):\n",
    "        hid = torch.tanh(self.fc1(state))\n",
    "        hid = torch.tanh(self.fc2(hid))\n",
    "        return F.softmax(self.fc3(hid), dim=-1)\n",
    "    \n",
    "class PolicyGradientAgent(): \n",
    "    def __init__(self, network):\n",
    "        self.network = network.cuda()\n",
    "        self.optimizer = optim.SGD(self.network.parameters(), lr=0.001)\n",
    "         \n",
    "    def forward(self, state):\n",
    "        return self.network(state)\n",
    "    def learn(self, log_probs, rewards):\n",
    "        loss = (-log_probs * rewards).sum() # You don't need to revise this to pass simple baseline (but you can)\n",
    "\n",
    "        self.optimizer.zero_grad()\n",
    "        #loss.cuda()\n",
    "        loss.backward()\n",
    "        self.optimizer.step()\n",
    "        \n",
    "    def sample(self, state):\n",
    "        action_prob = self.network(torch.FloatTensor(state).cuda())\n",
    "        action_dist = Categorical(action_prob)\n",
    "        action = action_dist.sample()\n",
    "        log_prob = action_dist.log_prob(action)\n",
    "        return action.item(), log_prob\n",
    "\n",
    "    def save(self, PATH): # You should not revise this\n",
    "        Agent_Dict = {\n",
    "            \"network\" : self.network.state_dict(),\n",
    "            \"optimizer\" : self.optimizer.state_dict()\n",
    "        }\n",
    "        torch.save(Agent_Dict, PATH)\n",
    "\n",
    "    def load(self, PATH): # You should not revise this\n",
    "        checkpoint = torch.load(PATH)\n",
    "        self.network.load_state_dict(checkpoint[\"network\"])\n",
    "        #如果要儲存過程或是中斷訓練後想繼續可以用喔 ^_^\n",
    "        self.optimizer.load_state_dict(checkpoint[\"optimizer\"])\n",
    "env = gym.make('LunarLander-v2')\n",
    "\n",
    "fix(env, seed)\n",
    "start = time.time()\n"
   ]
  },
  {
   "cell_type": "code",
   "execution_count": 3,
   "id": "1e95911c",
   "metadata": {},
   "outputs": [
    {
     "data": {
      "image/png": "[encoded data removed]",
      "text/plain": [
       "<Figure size 432x288 with 1 Axes>"
      ]
     },
     "metadata": {
      "needs_background": "light"
     },
     "output_type": "display_data"
    }
   ],
   "source": [
    "initial_state = env.reset()\n",
    "env.reset()\n",
    "img = plt.imshow(env.render(mode='rgb_array'))"
   ]
  },
  {
   "cell_type": "code",
   "execution_count": 4,
   "id": "d2772892",
   "metadata": {},
   "outputs": [
    {
     "data": {
      "image/png": "[encoded data removed]",
      "text/plain": [
       "<Figure size 432x288 with 1 Axes>"
      ]
     },
     "metadata": {
      "needs_background": "light"
     },
     "output_type": "display_data"
    }
   ],
   "source": [
    "network = PolicyGradientNetwork()\n",
    "agent = PolicyGradientAgent(network)\n",
    "\n",
    "env.reset()\n",
    "\n",
    "img = plt.imshow(env.render(mode='rgb_array'))\n",
    "rewwards = list()\n",
    "done = False\n",
    "for i in range(50):\n",
    "    action = env.action_space.sample()\n",
    "    observation, reward, done, _ = env.step(action)\n",
    "    rewwards.append(reward)\n",
    "    img.set_data(env.render(mode='rgb_array'))\n",
    "    display.display(plt.gcf())\n",
    "    display.clear_output(wait=True)"
   ]
  },
  {
   "cell_type": "code",
   "execution_count": 5,
   "id": "e7e90335",
   "metadata": {},
   "outputs": [
    {
     "data": {
      "text/plain": [
       "[-0.4521855097095795,\n",
       " -0.4559782871692903,\n",
       " -0.3871742238318632,\n",
       " -2.1739978181178103,\n",
       " -0.4371862754623226,\n",
       " -2.6049443042099356,\n",
       " -1.1339289422660375,\n",
       " 2.1311892762762,\n",
       " -1.6160319820182565,\n",
       " -1.7717472553225662,\n",
       " -1.2826135332226898,\n",
       " -0.8518127315695085,\n",
       " -2.5568520704632065,\n",
       " -1.8602239131158456,\n",
       " -2.6705234472453285,\n",
       " -2.833731381088795,\n",
       " 2.4505974420328416,\n",
       " -2.1269429872625096,\n",
       " -2.1358985812530875,\n",
       " 1.9608097197618803,\n",
       " -2.029912910317506,\n",
       " -1.181732640670275,\n",
       " 0.5604273521502818,\n",
       " -2.642454610253138,\n",
       " -2.860132074999312,\n",
       " -1.2169194241383525,\n",
       " 2.283431672945466,\n",
       " 0.8544537191608412,\n",
       " -1.3901541158511737,\n",
       " -1.2743978191074052,\n",
       " -1.1870922861185977,\n",
       " -2.006465574110591,\n",
       " -1.0311650388643432,\n",
       " -1.9199545815345107,\n",
       " -1.064914451795487,\n",
       " -1.970652460891016,\n",
       " -0.8333269312585105,\n",
       " -1.8910545070199578,\n",
       " -0.7903670141545536,\n",
       " -0.6374803569379128,\n",
       " -1.5436745322004686,\n",
       " -0.5421262398675697,\n",
       " -0.4288101208127546,\n",
       " -1.230548849090012,\n",
       " -1.3184102342789277,\n",
       " -1.3536519880055085,\n",
       " -0.5248973784523787,\n",
       " -0.7790292976881119,\n",
       " 2.205403598921589,\n",
       " 3.8086692330904954]"
      ]
     },
     "execution_count": 5,
     "metadata": {},
     "output_type": "execute_result"
    }
   ],
   "source": [
    "rewwards"
   ]
  }
 ],
 "metadata": {
  "kernelspec": {
   "display_name": "Python 3",
   "language": "python",
   "name": "python3"
  },
  "language_info": {
   "codemirror_mode": {
    "name": "ipython",
    "version": 3
   },
   "file_extension": ".py",
   "mimetype": "text/x-python",
   "name": "python",
   "nbconvert_exporter": "python",
   "pygments_lexer": "ipython3",
   "version": "3.6.9"
  }
 },
 "nbformat": 4,
 "nbformat_minor": 5
}
